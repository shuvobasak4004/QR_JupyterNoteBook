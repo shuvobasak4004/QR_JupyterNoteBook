{
  "nbformat": 4,
  "nbformat_minor": 0,
  "metadata": {
    "colab": {
      "provenance": []
    },
    "kernelspec": {
      "name": "python3",
      "display_name": "Python 3"
    },
    "language_info": {
      "name": "python"
    }
  },
  "cells": [
    {
      "cell_type": "code",
      "source": [
        "!pip install opencv-python qrcode\n",
        "import requests\n",
        "import cv2\n",
        "import numpy as np\n",
        "import qrcode\n",
        "from google.colab import files\n",
        "\n",
        "# Function to download the image from a URL\n",
        "def download_image(url):\n",
        "    try:\n",
        "        response = requests.get(url)\n",
        "        response.raise_for_status()  # Raise an exception for any download errors\n",
        "        image_array = np.asarray(bytearray(response.content), dtype=np.uint8)\n",
        "        image = cv2.imdecode(image_array, cv2.IMREAD_COLOR)\n",
        "        return image\n",
        "    except Exception as e:\n",
        "        print(\"Error downloading image:\", e)\n",
        "        return None\n",
        "\n",
        "# Function to generate QR code from an image\n",
        "def generate_qr_code_from_image(image_url, qr_code_path):\n",
        "    # Download the image from the URL\n",
        "    image = download_image(image_url)\n",
        "\n",
        "    if image is not None:\n",
        "        # Resize the image to a smaller size (optional)\n",
        "        resized_image = cv2.resize(image, (300, 300))\n",
        "\n",
        "        # Convert the resized image to grayscale\n",
        "        gray_image = cv2.cvtColor(resized_image, cv2.COLOR_BGR2GRAY)\n",
        "\n",
        "        # Initialize a QRCode object\n",
        "        qr_code = qrcode.QRCode(\n",
        "            version=1,\n",
        "            error_correction=qrcode.constants.ERROR_CORRECT_H,\n",
        "            box_size=10,\n",
        "            border=4,\n",
        "        )\n",
        "\n",
        "        # Add the image data to the QR code\n",
        "        qr_code.add_data(gray_image)\n",
        "\n",
        "        # Generate the QR code image\n",
        "        qr_image = qr_code.make_image(fill_color=\"black\", back_color=\"white\")\n",
        "\n",
        "        # Save the QR code image\n",
        "        qr_image.save(qr_code_path)\n",
        "\n",
        "        # Download the QR code image\n",
        "        files.download(qr_code_path)\n",
        "\n",
        "# Specify the image URL and QR code path\n",
        "image_url = \"https://via.placeholder.com/300.png\"  # Example image URL\n",
        "qr_code_path = \"qr_code.png\"\n",
        "\n",
        "# Generate QR code from image and download it\n",
        "generate_qr_code_from_image(image_url, qr_code_path)\n"
      ],
      "metadata": {
        "colab": {
          "base_uri": "https://localhost:8080/",
          "height": 124
        },
        "id": "sFKhRgiMVkz-",
        "outputId": "b2492d39-470e-45e1-800e-b7cc4b33f1b2"
      },
      "execution_count": 17,
      "outputs": [
        {
          "output_type": "stream",
          "name": "stdout",
          "text": [
            "Looking in indexes: https://pypi.org/simple, https://us-python.pkg.dev/colab-wheels/public/simple/\n",
            "Requirement already satisfied: opencv-python in /usr/local/lib/python3.10/dist-packages (4.7.0.72)\n",
            "Requirement already satisfied: qrcode in /usr/local/lib/python3.10/dist-packages (7.4.2)\n",
            "Requirement already satisfied: numpy>=1.21.2 in /usr/local/lib/python3.10/dist-packages (from opencv-python) (1.22.4)\n",
            "Requirement already satisfied: typing-extensions in /usr/local/lib/python3.10/dist-packages (from qrcode) (4.5.0)\n",
            "Requirement already satisfied: pypng in /usr/local/lib/python3.10/dist-packages (from qrcode) (0.20220715.0)\n"
          ]
        },
        {
          "output_type": "display_data",
          "data": {
            "text/plain": [
              "<IPython.core.display.Javascript object>"
            ],
            "application/javascript": [
              "\n",
              "    async function download(id, filename, size) {\n",
              "      if (!google.colab.kernel.accessAllowed) {\n",
              "        return;\n",
              "      }\n",
              "      const div = document.createElement('div');\n",
              "      const label = document.createElement('label');\n",
              "      label.textContent = `Downloading \"${filename}\": `;\n",
              "      div.appendChild(label);\n",
              "      const progress = document.createElement('progress');\n",
              "      progress.max = size;\n",
              "      div.appendChild(progress);\n",
              "      document.body.appendChild(div);\n",
              "\n",
              "      const buffers = [];\n",
              "      let downloaded = 0;\n",
              "\n",
              "      const channel = await google.colab.kernel.comms.open(id);\n",
              "      // Send a message to notify the kernel that we're ready.\n",
              "      channel.send({})\n",
              "\n",
              "      for await (const message of channel.messages) {\n",
              "        // Send a message to notify the kernel that we're ready.\n",
              "        channel.send({})\n",
              "        if (message.buffers) {\n",
              "          for (const buffer of message.buffers) {\n",
              "            buffers.push(buffer);\n",
              "            downloaded += buffer.byteLength;\n",
              "            progress.value = downloaded;\n",
              "          }\n",
              "        }\n",
              "      }\n",
              "      const blob = new Blob(buffers, {type: 'application/binary'});\n",
              "      const a = document.createElement('a');\n",
              "      a.href = window.URL.createObjectURL(blob);\n",
              "      a.download = filename;\n",
              "      div.appendChild(a);\n",
              "      a.click();\n",
              "      div.remove();\n",
              "    }\n",
              "  "
            ]
          },
          "metadata": {}
        },
        {
          "output_type": "display_data",
          "data": {
            "text/plain": [
              "<IPython.core.display.Javascript object>"
            ],
            "application/javascript": [
              "download(\"download_1e563d3e-ecf9-444d-923f-59c2a045801f\", \"qr_code.png\", 2407)"
            ]
          },
          "metadata": {}
        }
      ]
    }
  ]
}